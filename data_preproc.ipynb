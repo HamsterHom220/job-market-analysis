{
 "cells": [
  {
   "cell_type": "code",
   "execution_count": 17,
   "id": "bebc008b",
   "metadata": {},
   "outputs": [
    {
     "name": "stdout",
     "output_type": "stream",
     "text": [
      "['C:\\\\programming\\\\Year3\\\\DataViz\\\\extra\\\\data\\\\vacancies_detailed(1).csv', 'C:\\\\programming\\\\Year3\\\\DataViz\\\\extra\\\\data\\\\vacancies_detailed(2).csv', 'C:\\\\programming\\\\Year3\\\\DataViz\\\\extra\\\\data\\\\vacancies_detailed(3).csv', 'C:\\\\programming\\\\Year3\\\\DataViz\\\\extra\\\\data\\\\vacancies_detailed(4).csv']\n",
      "<class 'pandas.core.frame.DataFrame'>\n",
      "RangeIndex: 1040 entries, 0 to 1039\n",
      "Data columns (total 12 columns):\n",
      " #   Column                  Non-Null Count  Dtype  \n",
      "---  ------                  --------------  -----  \n",
      " 0   id                      1040 non-null   int64  \n",
      " 1   name                    1040 non-null   object \n",
      " 2   area                    1040 non-null   object \n",
      " 3   salary_from             828 non-null    float64\n",
      " 4   salary_to               479 non-null    float64\n",
      " 5   currency                878 non-null    object \n",
      " 6   snippet_requirement     1011 non-null   object \n",
      " 7   snippet_responsibility  994 non-null    object \n",
      " 8   experience              1040 non-null   object \n",
      " 9   employment              1040 non-null   object \n",
      " 10  schedule                1040 non-null   object \n",
      " 11  key_skills              569 non-null    object \n",
      "dtypes: float64(2), int64(1), object(9)\n",
      "memory usage: 97.6+ KB\n"
     ]
    }
   ],
   "source": [
    "import pandas as pd\n",
    "import glob\n",
    "import os\n",
    "\n",
    "path = 'C:\\programming\\Year3\\DataViz\\extra\\data' # use your path\n",
    "all_files = glob.glob(os.path.join(path , \"*.csv\"))\n",
    "print(all_files)\n",
    "\n",
    "li = []\n",
    "\n",
    "for filename in all_files:\n",
    "    df = pd.read_csv(filename, index_col=None, header=0)\n",
    "    li.append(df)\n",
    "\n",
    "frame = pd.concat(li, axis=0, ignore_index=True)\n",
    "\n",
    "frame.info()"
   ]
  },
  {
   "cell_type": "code",
   "execution_count": 18,
   "id": "f5d49c87",
   "metadata": {},
   "outputs": [
    {
     "data": {
      "text/plain": [
       "[{'skill': 'Ветеринария', 'count': 159},\n",
       " {'skill': 'Работа в команде', 'count': 97},\n",
       " {'skill': 'Пользователь ПК', 'count': 84},\n",
       " {'skill': 'Ответственность', 'count': 80},\n",
       " {'skill': 'Работа с животными', 'count': 71},\n",
       " {'skill': 'Грамотная речь', 'count': 60},\n",
       " {'skill': 'Лечение животных', 'count': 49},\n",
       " {'skill': 'Активные продажи', 'count': 49},\n",
       " {'skill': 'Знание ветеринарных препаратов', 'count': 45},\n",
       " {'skill': 'Консультативные продажи', 'count': 45},\n",
       " {'skill': 'Исполнительность', 'count': 45},\n",
       " {'skill': 'Организаторские навыки', 'count': 39},\n",
       " {'skill': 'Уход за животными', 'count': 37},\n",
       " {'skill': 'Вакцинация животных', 'count': 37},\n",
       " {'skill': 'Деловое общение', 'count': 36}]"
      ]
     },
     "execution_count": 18,
     "metadata": {},
     "output_type": "execute_result"
    }
   ],
   "source": [
    "import json\n",
    "from collections import Counter\n",
    "\n",
    "frame = frame.drop_duplicates('id')  # Remove duplicate jobs\n",
    "\n",
    "# Convert key_skills from string to list\n",
    "frame['key_skills'] = frame['key_skills'].apply(lambda x: x.split(',') if pd.notna(x) else [])\n",
    "    \n",
    "# Analyze skills\n",
    "all_skills = [skill.strip() for sublist in frame['key_skills'] for skill in sublist]\n",
    "skill_counts = Counter(all_skills)\n",
    "top_skills = [{'skill': skill, 'count': count} for skill, count in skill_counts.most_common(15)]\n",
    "\n",
    "top_skills"
   ]
  },
  {
   "cell_type": "code",
   "execution_count": 33,
   "id": "3af7c418",
   "metadata": {},
   "outputs": [
    {
     "data": {
      "text/plain": [
       "{'1-3': 446, 'no_exp': 428, '3-6': 120, '6+': 24}"
      ]
     },
     "execution_count": 33,
     "metadata": {},
     "output_type": "execute_result"
    }
   ],
   "source": [
    "# Analyze experience levels\n",
    "experience_mapping = {\n",
    "        'Нет опыта': 'no_exp',\n",
    "        'От 1 года до 3 лет': '1-3',\n",
    "        'От 3 до 6 лет': '3-6',\n",
    "        'Более 6 лет': '6+'\n",
    "}\n",
    "experience_counts = frame['experience'].value_counts().to_dict()\n",
    "experience_data = {experience_mapping.get(k, k): v for k, v in experience_counts.items()}\n",
    "\n",
    "frame['experience_normalized'] = frame['experience'].map(experience_mapping)\n",
    "experience_counts = frame['experience_normalized'].value_counts().to_dict()\n",
    "experience_data"
   ]
  },
  {
   "cell_type": "code",
   "execution_count": 34,
   "id": "3308a771",
   "metadata": {},
   "outputs": [
    {
     "data": {
      "text/plain": [
       "{'Полная занятость': 972,\n",
       " 'Частичная занятость': 42,\n",
       " 'Проектная работа': 3,\n",
       " 'Стажировка': 1}"
      ]
     },
     "execution_count": 34,
     "metadata": {},
     "output_type": "execute_result"
    }
   ],
   "source": [
    "# Analyze employment types\n",
    "employment_counts = frame['employment'].value_counts().to_dict()\n",
    "employment_counts"
   ]
  },
  {
   "cell_type": "code",
   "execution_count": 26,
   "id": "f487274e",
   "metadata": {},
   "outputs": [],
   "source": [
    "from forex_python.converter import CurrencyRates\n",
    "from datetime import datetime\n",
    "\n",
    "def convert_to_rub(amount, currency, date=None):\n",
    "    \"\"\"Convert amount to RUB using forex-python\"\"\"\n",
    "    if pd.isna(amount) or currency == 'RUR':\n",
    "        return amount\n",
    "    \n",
    "    try:\n",
    "        c = CurrencyRates()\n",
    "        rate = c.get_rate(currency, 'RUB', date_obj=date or datetime.now())\n",
    "        return amount * rate\n",
    "    except:\n",
    "        # Fallback rates if API fails (approximate as of knowledge cutoff)\n",
    "        fallback_rates = {\n",
    "            'BYR': 0.0032,  # 1 BYN ≈ 30 RUB (Belarusian Ruble)\n",
    "            'KZT': 0.18,    # 1 KZT ≈ 0.18 RUB (Kazakhstani Tenge)\n",
    "            'UZS': 0.0076,  # 1 UZS ≈ 0.0076 RUB (Uzbekistani Som)\n",
    "            'USD': 90.0,    # Approximate rates\n",
    "            'EUR': 100.0\n",
    "        }\n",
    "        return amount * fallback_rates.get(currency, 1)  # Default to 1 if unknown currency"
   ]
  },
  {
   "cell_type": "code",
   "execution_count": 28,
   "id": "97f296d7",
   "metadata": {},
   "outputs": [
    {
     "data": {
      "text/plain": [
       "0            NaN\n",
       "1        30000.0\n",
       "2        85000.0\n",
       "3        67500.0\n",
       "4            NaN\n",
       "          ...   \n",
       "1035     35000.0\n",
       "1036    125000.0\n",
       "1037     39000.0\n",
       "1038     39000.0\n",
       "1039     35000.0\n",
       "Name: salary_mid_rub, Length: 1018, dtype: float64"
      ]
     },
     "execution_count": 28,
     "metadata": {},
     "output_type": "execute_result"
    }
   ],
   "source": [
    "# Currency conversion for salaries\n",
    "frame['salary_from_rub'] = frame.apply(\n",
    "        lambda x: convert_to_rub(x['salary_from'], x['currency']), \n",
    "        axis=1\n",
    ")\n",
    "frame['salary_to_rub'] = frame.apply(\n",
    "        lambda x: convert_to_rub(x['salary_to'], x['currency']), \n",
    "        axis=1\n",
    ")\n",
    "    \n",
    "# Calculate midpoint salary for analysis\n",
    "frame['salary_mid_rub'] = frame[['salary_from_rub', 'salary_to_rub']].mean(axis=1)\n",
    "frame['salary_mid_rub']"
   ]
  },
  {
   "cell_type": "code",
   "execution_count": 35,
   "id": "d6c6472f",
   "metadata": {},
   "outputs": [
    {
     "data": {
      "text/plain": [
       "{'mean': {'1-3': 84469.22619946091,\n",
       "  '3-6': 124028.26216216217,\n",
       "  '6+': 90532.8705882353,\n",
       "  'no_exp': 56110.80243654823},\n",
       " 'count': {'1-3': 371, '3-6': 74, '6+': 17, 'no_exp': 394}}"
      ]
     },
     "execution_count": 35,
     "metadata": {},
     "output_type": "execute_result"
    }
   ],
   "source": [
    "# Salary analysis (only for jobs with salary data)\n",
    "salary_df = frame[frame['salary_mid_rub'].notna()]\n",
    "salary_stats = {\n",
    "        'average_from': salary_df['salary_from_rub'].mean(),\n",
    "        'average_to': salary_df['salary_to_rub'].mean(),\n",
    "        'median': salary_df['salary_mid_rub'].median(),\n",
    "        'currency_original': frame['currency'].value_counts().to_dict(),\n",
    "        'currency_used': 'RUB',\n",
    "        'jobs_with_salary': len(salary_df)\n",
    "}\n",
    "    \n",
    "# Salary by experience\n",
    "salary_by_exp = salary_df.groupby('experience_normalized')['salary_mid_rub'].agg(['mean', 'count']).to_dict()\n",
    "salary_by_exp"
   ]
  },
  {
   "cell_type": "code",
   "execution_count": 36,
   "id": "3fa034f8",
   "metadata": {},
   "outputs": [],
   "source": [
    "# Prepare output\n",
    "output = {\n",
    "        'metadata': {\n",
    "            'total_jobs': len(frame),\n",
    "            'unique_companies': frame['name'].nunique(),\n",
    "            'unique_locations': frame['area'].nunique(),\n",
    "            'jobs_with_salary': frame[frame['salary_from'].notna()].shape[0]\n",
    "        },\n",
    "        'skills': top_skills,\n",
    "        'experience': experience_data,\n",
    "        'employment': employment_counts,\n",
    "        'salary': salary_stats,\n",
    "        'raw_data_sample': frame.head(3).to_dict('records')  # For debugging\n",
    "}\n",
    "    \n",
    "# Save to JSON\n",
    "with open('output.json', 'w', encoding='utf-8') as f:\n",
    "    json.dump(output, f, ensure_ascii=False, indent=2)"
   ]
  }
 ],
 "metadata": {
  "kernelspec": {
   "display_name": "extr_env",
   "language": "python",
   "name": "python3"
  },
  "language_info": {
   "codemirror_mode": {
    "name": "ipython",
    "version": 3
   },
   "file_extension": ".py",
   "mimetype": "text/x-python",
   "name": "python",
   "nbconvert_exporter": "python",
   "pygments_lexer": "ipython3",
   "version": "3.9.0"
  }
 },
 "nbformat": 4,
 "nbformat_minor": 5
}
